{
 "cells": [
  {
   "cell_type": "code",
   "execution_count": 20,
   "id": "548b0025",
   "metadata": {},
   "outputs": [
    {
     "name": "stdout",
     "output_type": "stream",
     "text": [
      "cuda\n"
     ]
    }
   ],
   "source": [
    "import torch\n",
    "from torch.utils.data import Dataset\n",
    "import json\n",
    "import os\n",
    "import torch.nn as nn\n",
    "import torch.nn.functional as func\n",
    "from torch.utils.data import DataLoader\n",
    "import torch.optim as optim\n",
    "from os.path import expanduser\n",
    "import splitfolders\n",
    "import shutil\n",
    "import glob\n",
    "import numpy as np\n",
    "import matplotlib.pyplot as plt\n",
    "from sklearn.model_selection import train_test_split\n",
    "import pandas as pd\n",
    "\n",
    "device = 'cuda' if torch.cuda.is_available() else 'cpu'\n",
    "print(device)\n",
    "\n",
    "\n"
   ]
  },
  {
   "cell_type": "code",
   "execution_count": 21,
   "id": "dea03dfe",
   "metadata": {},
   "outputs": [],
   "source": [
    "class KpVelDataset(Dataset):\n",
    "    def __init__(self, json_folder):\n",
    "        super(KpVelDataset, self).__init__()\n",
    "        self.data = []\n",
    "        for json_file in sorted(os.listdir(json_folder)):\n",
    "            if json_file.endswith('_combined.json'):\n",
    "                with open(os.path.join(json_folder, json_file), 'r') as file:\n",
    "                    data = json.load(file)\n",
    "                    start_kp = data['start_kp']\n",
    "                    next_kp = data['next_kp']\n",
    "                    position = data['position']\n",
    "                    self.data.append((start_kp, next_kp, position))\n",
    "    \n",
    "    def __len__(self):\n",
    "        return len(self.data)\n",
    "\n",
    "    def __getitem__(self, idx):\n",
    "        start_kp, next_kp, position = self.data[idx]\n",
    "        # Ensure start_kp and next_kp have consistent dimensions\n",
    "        # if not start_kp or not next_kp:\n",
    "        #     raise ValueError(f\"Empty keypoints found at index {idx}\")\n",
    "        start_kp_flat = torch.tensor([kp for sublist in start_kp for kp in sublist[0][:2]], dtype=torch.float)\n",
    "        next_kp_flat = torch.tensor([kp for sublist in next_kp for kp in sublist[0][:2]], dtype=torch.float)\n",
    "        position = torch.tensor(position, dtype=torch.float)\n",
    "        return start_kp_flat, next_kp_flat, position\n",
    "\n",
    "def train_test_split(src_dir):\n",
    "    dst_dir_anno = src_dir + \"annotations\"\n",
    "    \n",
    "    if os.path.exists(dst_dir_anno):\n",
    "        print(\"folders exist\")\n",
    "    else:\n",
    "        os.mkdir(dst_dir_anno)\n",
    "\n",
    "    for jsonfile in glob.iglob(os.path.join(src_dir, \"*_combined.json\")):\n",
    "        shutil.copy(jsonfile, dst_dir_anno)\n",
    "        \n",
    "    output = root_dir + \"split_folder_reg\"\n",
    "    \n",
    "    splitfolders.ratio(src_dir, # The location of dataset\n",
    "                   output=output, # The output location\n",
    "                   seed=42, # The number of seed\n",
    "                   ratio=(0.8, 0.1, 0.1), # The ratio of split dataset\n",
    "                   group_prefix=None, # If your dataset contains more than one file like \".jpg\", \".pdf\", etc\n",
    "                   move=False # If you choose to move, turn this into True\n",
    "                   )\n",
    "    \n",
    "#     shutil.rmtree(dst_dir_img)\n",
    "    shutil.rmtree(dst_dir_anno)\n",
    "    \n",
    "    return output  \n",
    "\n"
   ]
  },
  {
   "cell_type": "code",
   "execution_count": 22,
   "id": "477c53e9",
   "metadata": {},
   "outputs": [],
   "source": [
    "class PosRegModel(nn.Module):\n",
    "    def __init__(self, input_size):\n",
    "        super(PosRegModel, self).__init__()\n",
    "        self.fc1 = nn.Linear(input_size * 2, 512)\n",
    "        self.bn1 = nn.BatchNorm1d(512)\n",
    "        self.dropout1 = nn.Dropout(p=0.3)\n",
    "        self.fc2 = nn.Linear(512, 256)\n",
    "        self.bn2 = nn.BatchNorm1d(256)\n",
    "        self.dropout2 = nn.Dropout(p=0.3)\n",
    "        self.fc3 = nn.Linear(256, 128)\n",
    "        self.bn3 = nn.BatchNorm1d(128)\n",
    "        self.fc4 = nn.Linear(128, 3)\n",
    "\n",
    "    def forward(self, start_kp, next_kp):\n",
    "        x = torch.cat((start_kp.cuda(), next_kp.cuda()), dim=1)\n",
    "        x = func.relu(self.bn1(self.fc1(x)))\n",
    "        x = self.dropout1(x)\n",
    "        x = func.relu(self.bn2(self.fc2(x)))\n",
    "        x = self.dropout2(x)\n",
    "        x = func.relu(self.bn3(self.fc3(x)))\n",
    "        x = self.fc4(x)\n",
    "        return x"
   ]
  },
  {
   "cell_type": "code",
   "execution_count": 23,
   "id": "75ed8ce9",
   "metadata": {},
   "outputs": [
    {
     "data": {
      "text/plain": [
       "=================================================================\n",
       "Layer (type:depth-idx)                   Param #\n",
       "=================================================================\n",
       "PosRegModel                              --\n",
       "├─Linear: 1-1                            12,800\n",
       "├─BatchNorm1d: 1-2                       1,024\n",
       "├─Dropout: 1-3                           --\n",
       "├─Linear: 1-4                            131,328\n",
       "├─BatchNorm1d: 1-5                       512\n",
       "├─Dropout: 1-6                           --\n",
       "├─Linear: 1-7                            32,896\n",
       "├─BatchNorm1d: 1-8                       256\n",
       "├─Linear: 1-9                            387\n",
       "=================================================================\n",
       "Total params: 179,203\n",
       "Trainable params: 179,203\n",
       "Non-trainable params: 0\n",
       "================================================================="
      ]
     },
     "execution_count": 23,
     "metadata": {},
     "output_type": "execute_result"
    }
   ],
   "source": [
    "from torchinfo import summary\n",
    "\n",
    "model = PosRegModel(input_size=12)\n",
    "model.eval()\n",
    "\n",
    "# This is the correct usage for models expecting multiple inputs.\n",
    "summary(model, input_sizes=[(6, 2), (6, 2)])"
   ]
  },
  {
   "cell_type": "code",
   "execution_count": null,
   "id": "d2689823",
   "metadata": {},
   "outputs": [],
   "source": []
  }
 ],
 "metadata": {
  "kernelspec": {
   "display_name": "Python 3 (ipykernel)",
   "language": "python",
   "name": "python3"
  },
  "language_info": {
   "codemirror_mode": {
    "name": "ipython",
    "version": 3
   },
   "file_extension": ".py",
   "mimetype": "text/x-python",
   "name": "python",
   "nbconvert_exporter": "python",
   "pygments_lexer": "ipython3",
   "version": "3.8.10"
  }
 },
 "nbformat": 4,
 "nbformat_minor": 5
}
